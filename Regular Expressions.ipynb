{
 "cells": [
  {
   "cell_type": "markdown",
   "id": "5185b8d8-48f5-4474-8354-f40a0d4faa0a",
   "metadata": {},
   "source": [
    "# Regular Expressions"
   ]
  },
  {
   "cell_type": "markdown",
   "id": "69e6d270-3db2-4678-aff2-a13128b8df0b",
   "metadata": {},
   "source": [
    "### Extract Dates from the given text using Regex"
   ]
  },
  {
   "cell_type": "code",
   "execution_count": 4,
   "id": "6faae8e3-090e-4217-906d-9a3f9c787869",
   "metadata": {},
   "outputs": [
    {
     "name": "stdout",
     "output_type": "stream",
     "text": [
      "['2024-01-12', '2024-02-30']\n"
     ]
    }
   ],
   "source": [
    "import re\n",
    "\n",
    "text = \"On 2024-01-12, the conference will begin, and the event will end on 2024-02-30\" \n",
    "\n",
    "# Regex pattern to match dates in the format YYYY-MM-DD\n",
    "date_pattern = r\"\\d{4}-\\d{2}-\\d{2}\"\n",
    "\n",
    "dates = re.findall(date_pattern, text)\n",
    "\n",
    "print(dates)"
   ]
  },
  {
   "cell_type": "markdown",
   "id": "10e957dd-8881-411f-b5d5-ff6948274a2a",
   "metadata": {},
   "source": [
    "### Types of functions in Regular Expressions\n",
    "\n",
    "#### 1. Matching Functions\n",
    "Used to check if a pattern exists in a specific part of the string.\n",
    "\n",
    "| **Function**        | **Description**                                  | **Example**                                   |\n",
    "|----------------------|--------------------------------------------------|-----------------------------------------------|\n",
    "| `re.match()`         | Matches a pattern **at the start** of the string.| `re.match(r\"\\d+\", \"123abc\")` → Matches `123`. |\n",
    "| `re.fullmatch()`     | Matches the **entire string** against the pattern.| `re.fullmatch(r\"\\d+\", \"123\")` → Matches `123`.|\n",
    "| `re.search()`        | Searches for the **first occurrence** of the pattern in the string.| `re.search(r\"\\d+\", \"abc123def\")` → Matches `123`. |\n",
    "\n",
    "---\n",
    "\n",
    "#### 2. Finding and Extracting Functions\n",
    "Used to find or extract matches in a string.\n",
    "\n",
    "| **Function**        | **Description**                                  | **Example**                                   |\n",
    "|----------------------|--------------------------------------------------|-----------------------------------------------|\n",
    "| `re.findall()`       | Returns **all non-overlapping matches** as a list.| `re.findall(r\"\\d+\", \"abc123def456\")` → `['123', '456']`. |\n",
    "| `re.finditer()`      | Returns an **iterator of match objects** for all matches.| `for match in re.finditer(r\"\\d+\", \"abc123def456\"): print(match.group())` → `123, 456`. |\n",
    "\n",
    "---\n",
    "\n",
    "#### 3. Substitution Functions\n",
    "Used to replace parts of a string that match a pattern.\n",
    "\n",
    "| **Function**        | **Description**                                  | **Example**                                   |\n",
    "|----------------------|--------------------------------------------------|-----------------------------------------------|\n",
    "| `re.sub()`           | Replaces **all occurrences** of the pattern with a specified string.| `re.sub(r\"\\d+\", \"X\", \"abc123def456\")` → `abcXdefX`. |\n",
    "| `re.subn()`          | Same as `re.sub()` but also returns the **number of substitutions**.| `re.subn(r\"\\d+\", \"X\", \"abc123def456\")` → (`abcXdefX`, 2). |\n",
    "\n",
    "---\n",
    "\n",
    "#### 4. Splitting Functions\n",
    "Used to split a string based on a pattern.\n",
    "\n",
    "| **Function**        | **Description**                                  | **Example**                                   |\n",
    "|----------------------|--------------------------------------------------|-----------------------------------------------|\n",
    "| `re.split()`         | Splits the string **at each match of the pattern**.| `re.split(r\"\\d+\", \"abc123def456\")` → `['abc', 'def', '']`. |\n",
    "\n",
    "---\n",
    "\n",
    "#### 5. Compilation Functions\n",
    "Used to compile regular expressions for repeated use.\n",
    "\n",
    "| **Function**        | **Description**                                  | **Example**                                   |\n",
    "|----------------------|--------------------------------------------------|-----------------------------------------------|\n",
    "| `re.compile()`       | Compiles a regex pattern into a **regex object** for reuse.| `pattern = re.compile(r\"\\d+\"); pattern.findall(\"123abc456\")` → `['123', '456']`. |\n",
    "\n",
    "---\n",
    "\n",
    "#### 6. Escaping Functions\n",
    "Used to escape special characters in a string.\n",
    "\n",
    "| **Function**        | **Description**                                  | **Example**                                   |\n",
    "|----------------------|--------------------------------------------------|-----------------------------------------------|\n",
    "| `re.escape()`        | Escapes all special characters in a string.      | `re.escape(\"a+b*c\")` → `a\\+b\\*c`. |\n"
   ]
  },
  {
   "cell_type": "code",
   "execution_count": 7,
   "id": "12deb063-d2e6-4a75-bec3-92702ff911ac",
   "metadata": {},
   "outputs": [
    {
     "data": {
      "text/plain": [
       "<re.Match object; span=(0, 6), match='Python'>"
      ]
     },
     "execution_count": 7,
     "metadata": {},
     "output_type": "execute_result"
    }
   ],
   "source": [
    "pattern = 'Python'\n",
    "text = 'Python is very powerful, and python has alot of features'\n",
    "\n",
    "re.search(pattern, text)"
   ]
  },
  {
   "cell_type": "code",
   "execution_count": 15,
   "id": "17807e38-0494-4afb-b457-0bf8dc100acf",
   "metadata": {},
   "outputs": [
    {
     "name": "stdout",
     "output_type": "stream",
     "text": [
      "<re.Match object; span=(0, 6), match='Python'>\n",
      "found Python\n"
     ]
    }
   ],
   "source": [
    "pattern = 'Python'\n",
    "text = 'Python is very powerful, and python has alot of features'\n",
    "\n",
    "match = re.search(pattern, text)\n",
    "# print(match)\n",
    "\n",
    "if match:\n",
    "    print('found', match.group())\n",
    "else: \n",
    "    print('Not Found')"
   ]
  },
  {
   "cell_type": "markdown",
   "id": "531f2eff-851d-4681-939a-b5f3ff2604a2",
   "metadata": {},
   "source": [
    "#### Flags in Regular Expressions: \n",
    "Flags are optional parameters used to modify the behavior of the regex engine.\n",
    "\n",
    "| **Flag**   | **Name**           | **Description**                                                                 | **Example**                                                                                       |\n",
    "|------------|--------------------|---------------------------------------------------------------------------------|---------------------------------------------------------------------------------------------------|\n",
    "| `i`        | **Ignore Case**    | Makes the regex case-insensitive.                                               | Pattern: `r\"cat\"`<br>Flags: `re.I`<br>Matches: `cat`, `Cat`, `CAT`                               |\n",
    "| `m`        | **Multiline**      | Allows `^` and `$` to match the start and end of each line, not just the string. | Pattern: `r\"^cat\"`<br>Flags: `re.M`<br>Matches: `cat` at the beginning of multiple lines.        |\n",
    "| `s`        | **Dot All**        | Allows the dot (`.`) to match newline characters.                                | Pattern: `r\"cat.*dog\"`<br>Flags: `re.S`<br>Matches: `cat\\n\\ndog`                                 |\n",
    "| `x`        | **Verbose**        | Enables whitespace and comments for more readable regex patterns.                | Pattern: `r\"cat\\ \\# Matches the word 'cat'\"`<br>Flags: `re.X`<br>Matches: `cat`                 |\n",
    "| `a`        | **ASCII**          | Restricts `\\w`, `\\W`, `\\d`, `\\D`, `\\s`, and `\\S` to match ASCII characters only. | Pattern: `r\"\\w+\"`<br>Flags: `re.A`<br>Matches: `abc`, but not Unicode like `你好`.               |\n",
    "| `u`        | **Unicode**        | Allows `\\w`, `\\W`, `\\d`, `\\D`, `\\s`, and `\\S` to match Unicode characters.       | Pattern: `r\"\\w+\"`<br>Flags: `re.U`<br>Matches: Unicode strings like `你好`.                      |\n",
    "| `L`        | **Locale**         | Matches characters based on the current locale setting.                         | Pattern: `r\"\\w+\"`<br>Flags: `re.L`<br>Matches characters in a locale-aware manner.              |\n",
    "| `g`        | **Global**         | Enables global search; finds all matches instead of stopping at the first one.  | Pattern: `r\"cat\"`<br>With global search: Matches all occurrences of `cat` in the text.           |\n",
    "| `t`        | **Template**       | Marks the regex as a template; disables backreferences and grouping.            | Pattern: `r\"(cat|dog)\"`<br>Flags: `re.T`<br>Does not capture groups.                             |\n"
   ]
  },
  {
   "cell_type": "markdown",
   "id": "e6239152-4c0a-4122-a744-777dc4a027d1",
   "metadata": {},
   "source": []
  },
  {
   "cell_type": "code",
   "execution_count": null,
   "id": "12111845-5e02-441a-aac2-136e8d8288df",
   "metadata": {},
   "outputs": [],
   "source": []
  }
 ],
 "metadata": {
  "kernelspec": {
   "display_name": "Python 3 (ipykernel)",
   "language": "python",
   "name": "python3"
  },
  "language_info": {
   "codemirror_mode": {
    "name": "ipython",
    "version": 3
   },
   "file_extension": ".py",
   "mimetype": "text/x-python",
   "name": "python",
   "nbconvert_exporter": "python",
   "pygments_lexer": "ipython3",
   "version": "3.12.5"
  }
 },
 "nbformat": 4,
 "nbformat_minor": 5
}
