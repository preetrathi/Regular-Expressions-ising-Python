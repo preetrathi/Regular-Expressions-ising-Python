{
 "cells": [
  {
   "cell_type": "code",
   "execution_count": 1,
   "id": "96cbc9e5-ae88-40dd-95eb-ccf42e6e8f41",
   "metadata": {},
   "outputs": [
    {
     "name": "stdout",
     "output_type": "stream",
     "text": [
      "Collecting python-docx"
     ]
    },
    {
     "name": "stderr",
     "output_type": "stream",
     "text": [
      "\n",
      "[notice] A new release of pip is available: 24.2 -> 24.3.1\n",
      "[notice] To update, run: python.exe -m pip install --upgrade pip\n"
     ]
    },
    {
     "name": "stdout",
     "output_type": "stream",
     "text": [
      "\n",
      "  Downloading python_docx-1.1.2-py3-none-any.whl.metadata (2.0 kB)\n",
      "Collecting lxml>=3.1.0 (from python-docx)\n",
      "  Downloading lxml-5.3.0-cp312-cp312-win_amd64.whl.metadata (3.9 kB)\n",
      "Requirement already satisfied: typing-extensions>=4.9.0 in c:\\users\\hd\\appdata\\local\\programs\\python\\python312\\lib\\site-packages (from python-docx) (4.12.2)\n",
      "Downloading python_docx-1.1.2-py3-none-any.whl (244 kB)\n",
      "Downloading lxml-5.3.0-cp312-cp312-win_amd64.whl (3.8 MB)\n",
      "   ---------------------------------------- 0.0/3.8 MB ? eta -:--:--\n",
      "   ----- ---------------------------------- 0.5/3.8 MB 4.2 MB/s eta 0:00:01\n",
      "   -------- ------------------------------- 0.8/3.8 MB 2.4 MB/s eta 0:00:02\n",
      "   ---------- ----------------------------- 1.0/3.8 MB 2.1 MB/s eta 0:00:02\n",
      "   ---------- ----------------------------- 1.0/3.8 MB 2.1 MB/s eta 0:00:02\n",
      "   ---------- ----------------------------- 1.0/3.8 MB 2.1 MB/s eta 0:00:02\n",
      "   ---------- ----------------------------- 1.0/3.8 MB 2.1 MB/s eta 0:00:02\n",
      "   --------------------- ------------------ 2.1/3.8 MB 1.5 MB/s eta 0:00:02\n",
      "   ------------------------ --------------- 2.4/3.8 MB 1.5 MB/s eta 0:00:01\n",
      "   ------------------------ --------------- 2.4/3.8 MB 1.5 MB/s eta 0:00:01\n",
      "   --------------------------- ------------ 2.6/3.8 MB 1.2 MB/s eta 0:00:01\n",
      "   --------------------------- ------------ 2.6/3.8 MB 1.2 MB/s eta 0:00:01\n",
      "   ----------------------------------- ---- 3.4/3.8 MB 1.3 MB/s eta 0:00:01\n",
      "   ---------------------------------------- 3.8/3.8 MB 1.4 MB/s eta 0:00:00\n",
      "Installing collected packages: lxml, python-docx\n",
      "Successfully installed lxml-5.3.0 python-docx-1.1.2\n"
     ]
    }
   ],
   "source": [
    "!pip install python-docx"
   ]
  },
  {
   "cell_type": "code",
   "execution_count": 2,
   "id": "f2d705e1-b458-444f-95d6-ec38802610a9",
   "metadata": {},
   "outputs": [],
   "source": [
    "from docx import Document"
   ]
  },
  {
   "cell_type": "code",
   "execution_count": 4,
   "id": "aab8236e-c35a-4b9e-a95d-6cf1f04ae4d3",
   "metadata": {},
   "outputs": [],
   "source": [
    "document = Document('test.docx')"
   ]
  },
  {
   "cell_type": "code",
   "execution_count": 5,
   "id": "19b8d012-9595-4034-b96b-af199634184a",
   "metadata": {},
   "outputs": [
    {
     "data": {
      "text/plain": [
       "docx.document.Document"
      ]
     },
     "execution_count": 5,
     "metadata": {},
     "output_type": "execute_result"
    }
   ],
   "source": [
    "type(document)"
   ]
  },
  {
   "cell_type": "code",
   "execution_count": 8,
   "id": "ddab5b4c-b31a-4195-8f9c-67b4414ddb81",
   "metadata": {},
   "outputs": [
    {
     "data": {
      "text/plain": [
       "[<docx.text.paragraph.Paragraph at 0x161aef49460>,\n",
       " <docx.text.paragraph.Paragraph at 0x161afd35520>,\n",
       " <docx.text.paragraph.Paragraph at 0x161afd36840>,\n",
       " <docx.text.paragraph.Paragraph at 0x161afd36ab0>,\n",
       " <docx.text.paragraph.Paragraph at 0x161afd369f0>,\n",
       " <docx.text.paragraph.Paragraph at 0x161afd36d80>,\n",
       " <docx.text.paragraph.Paragraph at 0x161afd36cc0>,\n",
       " <docx.text.paragraph.Paragraph at 0x161afd363c0>,\n",
       " <docx.text.paragraph.Paragraph at 0x161afd36720>,\n",
       " <docx.text.paragraph.Paragraph at 0x161afd36540>,\n",
       " <docx.text.paragraph.Paragraph at 0x161afd36570>,\n",
       " <docx.text.paragraph.Paragraph at 0x161afd368d0>,\n",
       " <docx.text.paragraph.Paragraph at 0x161afd367e0>,\n",
       " <docx.text.paragraph.Paragraph at 0x161afd36630>,\n",
       " <docx.text.paragraph.Paragraph at 0x161afd36810>,\n",
       " <docx.text.paragraph.Paragraph at 0x161afd36930>,\n",
       " <docx.text.paragraph.Paragraph at 0x161afd36990>,\n",
       " <docx.text.paragraph.Paragraph at 0x161afd35550>,\n",
       " <docx.text.paragraph.Paragraph at 0x161afd35670>,\n",
       " <docx.text.paragraph.Paragraph at 0x161afd35580>,\n",
       " <docx.text.paragraph.Paragraph at 0x161afd35880>,\n",
       " <docx.text.paragraph.Paragraph at 0x161afd354f0>,\n",
       " <docx.text.paragraph.Paragraph at 0x161afd35760>,\n",
       " <docx.text.paragraph.Paragraph at 0x161afd359a0>,\n",
       " <docx.text.paragraph.Paragraph at 0x161afd35790>,\n",
       " <docx.text.paragraph.Paragraph at 0x161afd356a0>,\n",
       " <docx.text.paragraph.Paragraph at 0x161afd35430>,\n",
       " <docx.text.paragraph.Paragraph at 0x161afd35970>,\n",
       " <docx.text.paragraph.Paragraph at 0x161afd35730>,\n",
       " <docx.text.paragraph.Paragraph at 0x161afd35ac0>,\n",
       " <docx.text.paragraph.Paragraph at 0x161afd35b20>,\n",
       " <docx.text.paragraph.Paragraph at 0x161afd35af0>,\n",
       " <docx.text.paragraph.Paragraph at 0x161afd35c10>,\n",
       " <docx.text.paragraph.Paragraph at 0x161afd35ca0>,\n",
       " <docx.text.paragraph.Paragraph at 0x161afd35dc0>,\n",
       " <docx.text.paragraph.Paragraph at 0x161afd35940>,\n",
       " <docx.text.paragraph.Paragraph at 0x161afd35a30>,\n",
       " <docx.text.paragraph.Paragraph at 0x161afd35c40>,\n",
       " <docx.text.paragraph.Paragraph at 0x161afd35d30>]"
      ]
     },
     "execution_count": 8,
     "metadata": {},
     "output_type": "execute_result"
    }
   ],
   "source": [
    "document.paragraphs"
   ]
  },
  {
   "cell_type": "code",
   "execution_count": 9,
   "id": "a29b1eee-997c-4671-8e9e-4ea26ae9a84d",
   "metadata": {},
   "outputs": [
    {
     "data": {
      "text/plain": [
       "<docx.text.paragraph.Paragraph at 0x161afd36240>"
      ]
     },
     "execution_count": 9,
     "metadata": {},
     "output_type": "execute_result"
    }
   ],
   "source": [
    "document.paragraphs[0]"
   ]
  },
  {
   "cell_type": "code",
   "execution_count": 12,
   "id": "ba941b63-6bbd-4592-8a0c-ab1a8592a5d5",
   "metadata": {},
   "outputs": [
    {
     "data": {
      "text/plain": [
       "' +923243006800   preetkumarmaheshwari@gmail.com https://www.linkedin.com/in/preet-kumar-maheshwari/'"
      ]
     },
     "execution_count": 12,
     "metadata": {},
     "output_type": "execute_result"
    }
   ],
   "source": [
    "document.paragraphs[1].text"
   ]
  },
  {
   "cell_type": "code",
   "execution_count": 21,
   "id": "de0d67b7-10c0-4ed8-9bcd-7c59ccc53384",
   "metadata": {},
   "outputs": [
    {
     "name": "stdout",
     "output_type": "stream",
     "text": [
      "\n",
      " paragraph  1 is\n",
      "PREET KUMAR\n",
      "\n",
      " paragraph  2 is\n",
      " +923243006800   preetkumarmaheshwari@gmail.com https://www.linkedin.com/in/preet-kumar-maheshwari/\n",
      "\n",
      " paragraph  3 is\n",
      "Technical Skills\n",
      "\n",
      " paragraph  5 is\n",
      "Languages and Databases: Python, Pandas, NumPy, SQL, MySQL, Selenium\n",
      "\n",
      " paragraph  6 is\n",
      "Visualization Tools: Tableau, Power BI\n",
      "\n",
      " paragraph  7 is\n",
      "Other Skills: Advanced Excel, Business Analysis, Data Analysis, Customer Acquisition\n",
      "\n",
      " paragraph  8 is\n",
      "Experience/Projects\n",
      "\n",
      " paragraph  10 is\n",
      "JS Bank\tDecember 2023 – Present\n",
      "\n",
      " paragraph  11 is\n",
      "Data Scientist\tKarachi, Pakistan\n",
      "\n",
      " paragraph  12 is\n",
      "Managed and queried data using SQL Server Management Studio, ensuring efficient storage and retrieval. \n",
      "\n",
      " paragraph  13 is\n",
      "Extracted and processed data from various sources, including PDFs, XML, Word docs, and websites. \n",
      "\n",
      " paragraph  14 is\n",
      "Created Power BI dashboards and reports to deliver actionable insights and support decision-making. \n",
      "\n",
      " paragraph  15 is\n",
      "Conducted ad-hoc analysis and diagnostic investigations to resolve data-related issues and provide timely solutions. Performed data automation and analysis using Excel to streamline reporting processes. \n",
      "\n",
      " paragraph  16 is\n",
      "Developed RPA solutions to automate repetitive data handling tasks and improve workflow efficiency.\n",
      "\n",
      " paragraph  17 is\n",
      "Zagop\t      April 2022 – November 2023\n",
      "\n",
      " paragraph  18 is\n",
      "Data Analyst\t Karachi, Pakistan\n",
      "\n",
      " paragraph  19 is\n",
      "Enhanced the effectiveness and reach of various political and product ad campaigns, leveraging SQL and Excel for data analysis, directly leading to a significant 9% boost in campaign ROI and revenue growth.\n",
      "\n",
      " paragraph  20 is\n",
      "Streamlined and optimized SQL query operations, successfully reducing processing times by over 50%, thus enhancing overall database efficiency and response times for business-critical operations.\n",
      "\n",
      " paragraph  21 is\n",
      "Played a pivotal role in managing and fine-tuning advertising campaigns across several major platforms (Appnexus, Trader Desk, Google DBM), directly contributing to increased campaign ROI and efficiency.\n",
      "\n",
      " paragraph  22 is\n",
      "Used statistical analysis and predictive modeling in ad targeting, segmentation to enhance campaign precision.\n",
      "\n",
      " paragraph  23 is\n",
      "DEF Company\t        October 2021 – July 2022\n",
      "\n",
      " paragraph  24 is\n",
      "Analyst\t   Kolkata, India\n",
      "\n",
      " paragraph  25 is\n",
      "Utilized SQL, advanced Excel, and Python for data processing and analysis, successfully deploying a quality project for clients, focusing on efficiency and accuracy in data handling.\n",
      "\n",
      " paragraph  26 is\n",
      "Analyzed, reviewed, and revised programs to increase operating efficiency by up to 30%, significantly enhancing system performance and user satisfaction.\n",
      "\n",
      " paragraph  27 is\n",
      "Employed Advanced Excel functions (VLOOKUP, Pivot Tables) for in-depth data analysis and report creation,\n",
      "\n",
      " paragraph  28 is\n",
      "reducing manual work by 2 hours and increasing workflow efficiency.\n",
      "\n",
      " paragraph  29 is\n",
      "Personal Projects/Awards & Achievements\n",
      "\n",
      " paragraph  31 is\n",
      "Maple Hardware: Interactive Tableau Dashboard | Tableau, Data Modelling and Cleaning                               April 2022 - May 2022\n",
      "\n",
      " paragraph  32 is\n",
      "Developed an interactive Tableau dashboard for Brunox Electronics, enhancing strategic decision-making with dynamic visualizations that reduced data trend identification time by 40% and improved decision accuracy by 30%.\n",
      "\n",
      " paragraph  33 is\n",
      "Streamlined data modeling and cleaning processes, reducing preparation time by 25% and boosting data accuracy by 15%.\n",
      "\n",
      " paragraph  35 is\n",
      "  Education\n",
      "\n",
      " paragraph  37 is\n",
      "Mehran University of Engineering & Technology Jamshoro\t        Nov 2016 – Dec 2020\n",
      "\n",
      " paragraph  38 is\n",
      "Bachelor of Engineering in Computer Systems\t  Jamshoro, Sindh\n"
     ]
    }
   ],
   "source": [
    "index = 0\n",
    "for para in document.paragraphs:\n",
    "    index+=1\n",
    "    if(len(para.text)>0):\n",
    "        print(\"\\n paragraph \", index, 'is')\n",
    "        print(para.text)"
   ]
  },
  {
   "cell_type": "markdown",
   "id": "c3941150-4d57-4ffd-b869-d4b4b68d184f",
   "metadata": {},
   "source": [
    "# Create a function to get text from document"
   ]
  },
  {
   "cell_type": "code",
   "execution_count": 23,
   "id": "71c14389-102a-4701-b57a-96bafdc0b6df",
   "metadata": {},
   "outputs": [],
   "source": [
    "def docx_to_dic(file_name):\n",
    "    docx_dict = {}\n",
    "    index = 0\n",
    "    for para in document.paragraphs:\n",
    "        index+=1\n",
    "        if (len(para.text)>1):\n",
    "            docx_dict[index] = para.text\n",
    "    return docx_dict"
   ]
  },
  {
   "cell_type": "code",
   "execution_count": 25,
   "id": "ab42f258-8eb8-4373-bb3b-a856d4babda7",
   "metadata": {},
   "outputs": [
    {
     "data": {
      "text/plain": [
       "{1: 'PREET KUMAR',\n",
       " 2: ' +923243006800   preetkumarmaheshwari@gmail.com https://www.linkedin.com/in/preet-kumar-maheshwari/',\n",
       " 3: 'Technical Skills',\n",
       " 5: 'Languages and Databases: Python, Pandas, NumPy, SQL, MySQL, Selenium',\n",
       " 6: 'Visualization Tools: Tableau, Power BI',\n",
       " 7: 'Other Skills: Advanced Excel, Business Analysis, Data Analysis, Customer Acquisition',\n",
       " 8: 'Experience/Projects',\n",
       " 10: 'JS Bank\\tDecember 2023 – Present',\n",
       " 11: 'Data Scientist\\tKarachi, Pakistan',\n",
       " 12: 'Managed and queried data using SQL Server Management Studio, ensuring efficient storage and retrieval. ',\n",
       " 13: 'Extracted and processed data from various sources, including PDFs, XML, Word docs, and websites. ',\n",
       " 14: 'Created Power BI dashboards and reports to deliver actionable insights and support decision-making. ',\n",
       " 15: 'Conducted ad-hoc analysis and diagnostic investigations to resolve data-related issues and provide timely solutions. Performed data automation and analysis using Excel to streamline reporting processes. ',\n",
       " 16: 'Developed RPA solutions to automate repetitive data handling tasks and improve workflow efficiency.',\n",
       " 17: 'Zagop\\t      April 2022 – November 2023',\n",
       " 18: 'Data Analyst\\t Karachi, Pakistan',\n",
       " 19: 'Enhanced the effectiveness and reach of various political and product ad campaigns, leveraging SQL and Excel for data analysis, directly leading to a significant 9% boost in campaign ROI and revenue growth.',\n",
       " 20: 'Streamlined and optimized SQL query operations, successfully reducing processing times by over 50%, thus enhancing overall database efficiency and response times for business-critical operations.',\n",
       " 21: 'Played a pivotal role in managing and fine-tuning advertising campaigns across several major platforms (Appnexus, Trader Desk, Google DBM), directly contributing to increased campaign ROI and efficiency.',\n",
       " 22: 'Used statistical analysis and predictive modeling in ad targeting, segmentation to enhance campaign precision.',\n",
       " 23: 'DEF Company\\t        October 2021 – July 2022',\n",
       " 24: 'Analyst\\t   Kolkata, India',\n",
       " 25: 'Utilized SQL, advanced Excel, and Python for data processing and analysis, successfully deploying a quality project for clients, focusing on efficiency and accuracy in data handling.',\n",
       " 26: 'Analyzed, reviewed, and revised programs to increase operating efficiency by up to 30%, significantly enhancing system performance and user satisfaction.',\n",
       " 27: 'Employed Advanced Excel functions (VLOOKUP, Pivot Tables) for in-depth data analysis and report creation,',\n",
       " 28: 'reducing manual work by 2 hours and increasing workflow efficiency.',\n",
       " 29: 'Personal Projects/Awards & Achievements',\n",
       " 31: 'Maple Hardware: Interactive Tableau Dashboard | Tableau, Data Modelling and Cleaning                               April 2022 - May 2022',\n",
       " 32: 'Developed an interactive Tableau dashboard for Brunox Electronics, enhancing strategic decision-making with dynamic visualizations that reduced data trend identification time by 40% and improved decision accuracy by 30%.',\n",
       " 33: 'Streamlined data modeling and cleaning processes, reducing preparation time by 25% and boosting data accuracy by 15%.',\n",
       " 35: '  Education',\n",
       " 37: 'Mehran University of Engineering & Technology Jamshoro\\t        Nov 2016 – Dec 2020',\n",
       " 38: 'Bachelor of Engineering in Computer Systems\\t  Jamshoro, Sindh'}"
      ]
     },
     "execution_count": 25,
     "metadata": {},
     "output_type": "execute_result"
    }
   ],
   "source": [
    "docx_to_dic('test.docx')"
   ]
  }
 ],
 "metadata": {
  "kernelspec": {
   "display_name": "Python 3 (ipykernel)",
   "language": "python",
   "name": "python3"
  },
  "language_info": {
   "codemirror_mode": {
    "name": "ipython",
    "version": 3
   },
   "file_extension": ".py",
   "mimetype": "text/x-python",
   "name": "python",
   "nbconvert_exporter": "python",
   "pygments_lexer": "ipython3",
   "version": "3.12.5"
  }
 },
 "nbformat": 4,
 "nbformat_minor": 5
}
